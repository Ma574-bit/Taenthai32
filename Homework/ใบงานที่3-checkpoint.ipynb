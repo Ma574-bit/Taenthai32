{
 "cells": [
  {
   "cell_type": "code",
   "execution_count": 8,
   "id": "f6ced2f2-ee56-4445-b045-31157cc8744d",
   "metadata": {},
   "outputs": [
    {
     "name": "stdout",
     "output_type": "stream",
     "text": [
      "{'6611127320001': 'นาย ศักรินทร์ หาญทอง โรงเรียนวัดหลวงวิทยา', '6611127320002': 'นาย ทวีพรโชค ดาวจันทร โรงเรียนนาเเก้ววิทยา', '6611127320003': 'นาย ฐิราชัย พลหาญ โรงเรียนโขงเจียมวิทยาคม', '6611127320004': 'นาย ชานนท์ รูปคุ้ม โรงเรียนบ้านกันทรารมย์'}\n"
     ]
    }
   ],
   "source": [
    "data = \"\"\"6611127320001 นาย ศักรินทร์ หาญทอง โรงเรียนวัดหลวงวิทยา\n",
    "6611127320002 นาย ทวีพรโชค ดาวจันทร โรงเรียนนาเเก้ววิทยา\n",
    "6611127320003 นาย ฐิราชัย พลหาญ โรงเรียนโขงเจียมวิทยาคม\n",
    "6611127320004 นาย ชานนท์ รูปคุ้ม โรงเรียนบ้านกันทรารมย์\"\"\"\n",
    "\n",
    "\n",
    "lines = data.strip().split(\"\\n\")  \n",
    "student_dict = {}\n",
    "\n",
    "for line in lines:\n",
    "    parts = line.split(\" \", 2)  \n",
    "    student_id = parts[0]\n",
    "    name = parts[1] + \" \" + parts[2]  \n",
    "    student_dict[student_id] = name\n",
    "\n",
    "\n",
    "print(student_dict)\n",
    "\n"
   ]
  },
  {
   "cell_type": "code",
   "execution_count": 10,
   "id": "836db7e0-09b6-4e43-ac4b-4bc6a72d3ab9",
   "metadata": {},
   "outputs": [
    {
     "name": "stdout",
     "output_type": "stream",
     "text": [
      "ข้อมูลของรหัส 6611127320001: นาย ศักรินทร์ หาญทอง โรงเรียนวัดหลวงวิทยา\n"
     ]
    }
   ],
   "source": [
    "\n",
    "student_id = '6611127320001'\n",
    "student_name = student_dict.get(student_id) \n",
    "print(f\"ข้อมูลของรหัส {student_id}: {student_name}\")\n"
   ]
  },
  {
   "cell_type": "code",
   "execution_count": null,
   "id": "afe9d43f-aa76-40af-96a6-d766b9290d1f",
   "metadata": {},
   "outputs": [],
   "source": []
  }
 ],
 "metadata": {
  "kernelspec": {
   "display_name": "Python 3 (ipykernel)",
   "language": "python",
   "name": "python3"
  },
  "language_info": {
   "codemirror_mode": {
    "name": "ipython",
    "version": 3
   },
   "file_extension": ".py",
   "mimetype": "text/x-python",
   "name": "python",
   "nbconvert_exporter": "python",
   "pygments_lexer": "ipython3",
   "version": "3.12.7"
  }
 },
 "nbformat": 4,
 "nbformat_minor": 5
}
