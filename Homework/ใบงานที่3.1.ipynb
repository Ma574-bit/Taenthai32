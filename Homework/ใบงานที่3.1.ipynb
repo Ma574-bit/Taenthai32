{
  "metadata": {
    "kernelspec": {
      "name": "python",
      "display_name": "Python (Pyodide)",
      "language": "python"
    },
    "language_info": {
      "codemirror_mode": {
        "name": "python",
        "version": 3
      },
      "file_extension": ".py",
      "mimetype": "text/x-python",
      "name": "python",
      "nbconvert_exporter": "python",
      "pygments_lexer": "ipython3",
      "version": "3.8"
    },
    "interpreter": {
      "hash": "40d3a090f54c6569ab1632332b64b2c03c39dcf918b08424e98f38b5ae0af88f"
    }
  },
  "nbformat_minor": 4,
  "nbformat": 4,
  "cells": [
    {
      "cell_type": "markdown",
      "source": "# แบบฝึกหัด บทที่ 5 ตัวแปรและประเภทข้อมูล",
      "metadata": {}
    },
    {
      "cell_type": "code",
      "source": "\"\"\"\nชื่อ แทนไทย - สกุล พันธุชาติ - รหัส 6712732132\n\n\n\"\"\"",
      "metadata": {
        "trusted": true
      },
      "outputs": [
        {
          "execution_count": 12,
          "output_type": "execute_result",
          "data": {
            "text/plain": "'\\nชื่อ แทนไทย - สกุล พันธุชาติ - รหัส 6712732132\\n\\n\\n'"
          },
          "metadata": {}
        }
      ],
      "execution_count": 12
    },
    {
      "cell_type": "markdown",
      "source": "## 1.\tประเภทของตัวเลขที่ภาษาไพธอนให้การรองรับมีอะไรบ้าง",
      "metadata": {}
    },
    {
      "cell_type": "code",
      "source": "\"\"\"\nคำตอบ\nPython รองรับประเภทตัวเลข 3 ประเภทหลักๆ ได้แก่:\n\n1.int (Integer) - ตัวเลขจำนวนเต็ม เช่น 5, -10, 100\n2.float (Floating-point number) - ตัวเลขที่มีจุดทศนิยม เช่น 3.14, -0.001\n3.complex (Complex number) - ตัวเลขเชิงซ้อน เช่น 3 + 4j\n\"\"\"\n\n",
      "metadata": {
        "trusted": true
      },
      "outputs": [
        {
          "execution_count": 11,
          "output_type": "execute_result",
          "data": {
            "text/plain": "'\\nคำตอบ\\nPython รองรับประเภทตัวเลข 3 ประเภทหลักๆ ได้แก่:\\n\\n1.int (Integer) - ตัวเลขจำนวนเต็ม เช่น 5, -10, 100\\n2.float (Floating-point number) - ตัวเลขที่มีจุดทศนิยม เช่น 3.14, -0.001\\n3.complex (Complex number) - ตัวเลขเชิงซ้อน เช่น 3 + 4j\\n'"
          },
          "metadata": {}
        }
      ],
      "execution_count": 11
    },
    {
      "cell_type": "markdown",
      "source": "## 2.จงแสดงชนิดข้อมูลของตัวแปร a และ b",
      "metadata": {}
    },
    {
      "cell_type": "code",
      "source": "\"\"\"\na = 15.50\nb = ‘Python’ \nจงแสดงชนิดข้อมูลของตัวแปร a และ b\n\"\"\"",
      "metadata": {},
      "outputs": [],
      "execution_count": null
    },
    {
      "cell_type": "code",
      "source": "\"\"\"\nคำตอบ a = 15.50\nb = \"Python\"\n\nprint(type(a))  # <class 'float'>\nprint(type(b))  # <class 'str'>\n\n\"\"\"\n\n",
      "metadata": {
        "trusted": true
      },
      "outputs": [
        {
          "execution_count": 10,
          "output_type": "execute_result",
          "data": {
            "text/plain": "'\\nคำตอบ a = 15.50\\nb = \"Python\"\\n\\nprint(type(a))  # <class \\'float\\'>\\nprint(type(b))  # <class \\'str\\'>\\n\\n'"
          },
          "metadata": {}
        }
      ],
      "execution_count": 10
    },
    {
      "cell_type": "markdown",
      "source": "## 3.จงใช้คำสั่ง print() เพื่อแสดงสตริงต่อไปนี้\n\n- Jane's teacher says \"You have to study hard\" –",
      "metadata": {}
    },
    {
      "cell_type": "code",
      "source": "\"\"\"\nคำตอบ print(\"Jane's teacher says \\\"You have to study hard\\\" –\")\n\n\"\"\"\n\n",
      "metadata": {
        "trusted": true
      },
      "outputs": [
        {
          "execution_count": 8,
          "output_type": "execute_result",
          "data": {
            "text/plain": "'\\nคำตอบ print(\"Jane\\'s teacher says \"You have to study hard\" –\")\\n\\n'"
          },
          "metadata": {}
        }
      ],
      "execution_count": 8
    },
    {
      "cell_type": "markdown",
      "source": "## 4.\tจงแสดงผลลัพธ์ของคำสั่งต่อไปนี้ ",
      "metadata": {}
    },
    {
      "cell_type": "code",
      "source": "\"\"\"\nprint(\"{2} {0} {1}\".format(\"apple\", \n         \"pineapple\", \n         \"banana\"))\n\"\"\"\nprint(\"{2} {0} {1}\".format(\"apple\", \"pineapple\", \"banana\"))\n\n",
      "metadata": {
        "trusted": true
      },
      "outputs": [
        {
          "name": "stdout",
          "text": "banana apple pineapple\n",
          "output_type": "stream"
        }
      ],
      "execution_count": 2
    },
    {
      "cell_type": "markdown",
      "source": "",
      "metadata": {}
    },
    {
      "cell_type": "markdown",
      "source": "## 5. กำหนดให้ตัวแปร ",
      "metadata": {}
    },
    {
      "cell_type": "code",
      "source": "\"\"\"\npi = 3.141592653589\nจงแสดงค่าของตัวแปร pi ออกทางหน้าจอให้มีทศนิยมเพียง 3 จุด\n\"\"\"",
      "metadata": {},
      "outputs": [],
      "execution_count": null
    },
    {
      "cell_type": "code",
      "source": "\"\"\"\nคำตอบ pi = 3.141592653589\nprint(f\"{pi:.3f}\")  # ผลลัพธ์จะเป็น: 3.142\n\n\"\"\"\n",
      "metadata": {
        "trusted": true
      },
      "outputs": [
        {
          "execution_count": 4,
          "output_type": "execute_result",
          "data": {
            "text/plain": "'\\nคำตอบ pi = 3.141592653589\\nprint(f\"{pi:.3f}\")  # ผลลัพธ์จะเป็น: 3.142\\n\\n'"
          },
          "metadata": {}
        }
      ],
      "execution_count": 4
    },
    {
      "cell_type": "markdown",
      "source": "## 6.กำหนดให้ \n\nstr = \"Python Programming\"\n\nจงหาผลลัพธ์ของ str[7:]\n",
      "metadata": {}
    },
    {
      "cell_type": "code",
      "source": "\"\"\"\nคำตอบ str = \"Python Programming\"\nprint(str[7:])  \n\n\"\"\"\n\n",
      "metadata": {
        "trusted": true
      },
      "outputs": [
        {
          "execution_count": 6,
          "output_type": "execute_result",
          "data": {
            "text/plain": "'\\nคำตอบ str = \"Python Programming\"\\nprint(str[7:])  \\n\\n'"
          },
          "metadata": {}
        }
      ],
      "execution_count": 6
    },
    {
      "cell_type": "markdown",
      "source": "## 7.จงอธิบายความแตกต่างระหว่างลิสต์และทัพเพิล",
      "metadata": {}
    },
    {
      "cell_type": "code",
      "source": "\"\"\"\nคำตอบ\nลิสต์ (List): เป็นข้อมูลประเภทที่สามารถเปลี่ยนแปลง (mutable) ได้ หมายความว่าสามารถเพิ่ม, ลบ, หรือแก้ไขสมาชิกภายในลิสต์ได้\n\nทัพเพิล (Tuple): เป็นข้อมูลประเภทที่ไม่สามารถเปลี่ยนแปลง (immutable) ได้ once created. ไม่สามารถเพิ่ม, ลบ หรือแก้ไขสมาชิกได้\n\"\"\"\n",
      "metadata": {
        "trusted": true
      },
      "outputs": [
        {
          "execution_count": 7,
          "output_type": "execute_result",
          "data": {
            "text/plain": "'\\nคำตอบ\\nลิสต์ (List): เป็นข้อมูลประเภทที่สามารถเปลี่ยนแปลง (mutable) ได้ หมายความว่าสามารถเพิ่ม, ลบ, หรือแก้ไขสมาชิกภายในลิสต์ได้\\n\\nทัพเพิล (Tuple): เป็นข้อมูลประเภทที่ไม่สามารถเปลี่ยนแปลง (immutable) ได้ once created. ไม่สามารถเพิ่ม, ลบ หรือแก้ไขสมาชิกได้\\n'"
          },
          "metadata": {}
        }
      ],
      "execution_count": 7
    },
    {
      "cell_type": "code",
      "source": "",
      "metadata": {},
      "outputs": [],
      "execution_count": null
    }
  ]
}